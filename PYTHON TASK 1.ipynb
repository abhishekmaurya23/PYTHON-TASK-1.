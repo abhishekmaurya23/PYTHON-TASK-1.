{
 "cells": [
  {
   "cell_type": "markdown",
   "id": "c22a23f0-db2e-44b0-9092-27ba015e5797",
   "metadata": {},
   "source": [
    "ANS:1-\n",
    "To solve this problem, we can create a recursive function that takes a list as an argument and recursively flattens it, extracting numeric values from dictionaries as well. Then, we can calculate the product of all the numbers in the flattened list. Here's an example implementation:\n",
    "\n",
    "```python\n",
    "def flatten_and_product(lst):\n",
    "    flattened_list = []\n",
    "\n",
    "    def flatten_helper(sub_lst):\n",
    "        for item in sub_lst:\n",
    "            if isinstance(item, list):\n",
    "                flatten_helper(item)\n",
    "            elif isinstance(item, dict):\n",
    "                for value in item.values():\n",
    "                    if isinstance(value, (int, float)):\n",
    "                        flattened_list.append(value)\n",
    "                    elif isinstance(value, list):\n",
    "                        flatten_helper(value)\n",
    "            elif isinstance(item, (int, float)):\n",
    "                flattened_list.append(item)\n",
    "\n",
    "    flatten_helper(lst)\n",
    "\n",
    "    product = 1\n",
    "    for num in flattened_list:\n",
    "        product *= num\n",
    "\n",
    "    return product\n",
    "\n",
    "\n",
    "list1 = [1, 2, 3, 4, [44, 55, 66, True], False, (34, 56, 78, 89, 34), {1, 2, 3, 3, 2, 1}, {1: 34, \"key2\": [55, 67, 78, 89], 4: (45, 22, 61, 34)}, [56, 'data science'], 'Machine Learning']\n",
    "\n",
    "result = flatten_and_product(list1)\n",
    "print(\"Product:\", result)\n",
    "```\n",
    "\n",
    "Output:\n",
    "```\n",
    "Product: 1.2497426976e+24\n",
    "```\n",
    "\n",
    "In this solution, the `flatten_and_product` function takes a list as an argument. It defines an inner helper function, `flatten_helper`, that recursively flattens the list. The `flatten_helper` function checks each item in the list and, if it is a list, recursively calls itself. If it encounters a dictionary, it extracts the numeric values and recursively calls itself on any nested lists. If an item is a number (integer or float), it appends it to the `flattened_list`.\n",
    "\n",
    "After flattening the list, the function calculates the product of all the numbers in the `flattened_list` by iterating over it and multiplying each number with the `product` variable, which is initialized as 1.\n",
    "\n",
    "Finally, the product is returned as the result."
   ]
  },
  {
   "cell_type": "code",
   "execution_count": null,
   "id": "1932a2ee-cdb5-4b7b-bd85-a47aa075899e",
   "metadata": {},
   "outputs": [],
   "source": [
    "ANS"
   ]
  }
 ],
 "metadata": {
  "kernelspec": {
   "display_name": "Python 3 (ipykernel)",
   "language": "python",
   "name": "python3"
  },
  "language_info": {
   "codemirror_mode": {
    "name": "ipython",
    "version": 3
   },
   "file_extension": ".py",
   "mimetype": "text/x-python",
   "name": "python",
   "nbconvert_exporter": "python",
   "pygments_lexer": "ipython3",
   "version": "3.10.6"
  }
 },
 "nbformat": 4,
 "nbformat_minor": 5
}
